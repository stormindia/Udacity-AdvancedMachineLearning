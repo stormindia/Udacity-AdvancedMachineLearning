{
 "cells": [
  {
   "cell_type": "markdown",
   "metadata": {
    "collapsed": true
   },
   "source": [
    "# Image Classification\n",
    "In this project, you'll classify images from the [CIFAR-10 dataset](https://www.cs.toronto.edu/~kriz/cifar.html).  The dataset consists of airplanes, dogs, cats, and other objects. You'll preprocess the images, then train a convolutional neural network on all the samples. The images need to be normalized and the labels need to be one-hot encoded.  You'll get to apply what you learned and build a convolutional, max pooling, dropout, and fully connected layers.  At the end, you'll get to see your neural network's predictions on the sample images.\n",
    "## Get the Data\n",
    "Run the following cell to download the [CIFAR-10 dataset for python](https://www.cs.toronto.edu/~kriz/cifar-10-python.tar.gz)."
   ]
  },
  {
   "cell_type": "code",
   "execution_count": 1,
   "metadata": {},
   "outputs": [
    {
     "name": "stdout",
     "output_type": "stream",
     "text": [
      "All files found!\n"
     ]
    }
   ],
   "source": [
    "\"\"\"\n",
    "DON'T MODIFY ANYTHING IN THIS CELL THAT IS BELOW THIS LINE\n",
    "\"\"\"\n",
    "from urllib.request import urlretrieve\n",
    "from os.path import isfile, isdir\n",
    "from tqdm import tqdm\n",
    "import problem_unittests as tests\n",
    "import tarfile\n",
    "\n",
    "cifar10_dataset_folder_path = 'cifar-10-batches-py'\n",
    "\n",
    "# Use Floyd's cifar-10 dataset if present\n",
    "floyd_cifar10_location = '/cifar/cifar-10-python.tar.gz'\n",
    "if isfile(floyd_cifar10_location):\n",
    "    tar_gz_path = floyd_cifar10_location\n",
    "else:\n",
    "    tar_gz_path = 'cifar-10-python.tar.gz'\n",
    "\n",
    "class DLProgress(tqdm):\n",
    "    last_block = 0\n",
    "\n",
    "    def hook(self, block_num=1, block_size=1, total_size=None):\n",
    "        self.total = total_size\n",
    "        self.update((block_num - self.last_block) * block_size)\n",
    "        self.last_block = block_num\n",
    "\n",
    "if not isfile(tar_gz_path):\n",
    "    with DLProgress(unit='B', unit_scale=True, miniters=1, desc='CIFAR-10 Dataset') as pbar:\n",
    "        urlretrieve(\n",
    "            'https://www.cs.toronto.edu/~kriz/cifar-10-python.tar.gz',\n",
    "            tar_gz_path,\n",
    "            pbar.hook)\n",
    "\n",
    "if not isdir(cifar10_dataset_folder_path):\n",
    "    with tarfile.open(tar_gz_path) as tar:\n",
    "        tar.extractall()\n",
    "        tar.close()\n",
    "\n",
    "\n",
    "tests.test_folder_path(cifar10_dataset_folder_path)"
   ]
  },
  {
   "cell_type": "markdown",
   "metadata": {},
   "source": [
    "## Explore the Data\n",
    "The dataset is broken into batches to prevent your machine from running out of memory.  The CIFAR-10 dataset consists of 5 batches, named `data_batch_1`, `data_batch_2`, etc.. Each batch contains the labels and images that are one of the following:\n",
    "* airplane\n",
    "* automobile\n",
    "* bird\n",
    "* cat\n",
    "* deer\n",
    "* dog\n",
    "* frog\n",
    "* horse\n",
    "* ship\n",
    "* truck\n",
    "\n",
    "Understanding a dataset is part of making predictions on the data.  Play around with the code cell below by changing the `batch_id` and `sample_id`. The `batch_id` is the id for a batch (1-5). The `sample_id` is the id for a image and label pair in the batch.\n",
    "\n",
    "Ask yourself \"What are all possible labels?\", \"What is the range of values for the image data?\", \"Are the labels in order or random?\".  Answers to questions like these will help you preprocess the data and end up with better predictions."
   ]
  },
  {
   "cell_type": "code",
   "execution_count": 3,
   "metadata": {},
   "outputs": [
    {
     "name": "stdout",
     "output_type": "stream",
     "text": [
      "\n",
      "Stats of batch 1:\n",
      "Samples: 10000\n",
      "Label Counts: {0: 1005, 1: 974, 2: 1032, 3: 1016, 4: 999, 5: 937, 6: 1030, 7: 1001, 8: 1025, 9: 981}\n",
      "First 20 Labels: [6, 9, 9, 4, 1, 1, 2, 7, 8, 3, 4, 7, 7, 2, 9, 9, 9, 3, 2, 6]\n",
      "\n",
      "Example of Image 5:\n",
      "Image - Min Value: 0 Max Value: 252\n",
      "Image - Shape: (32, 32, 3)\n",
      "Label - Label Id: 1 Name: automobile\n"
     ]
    },
    {
     "data": {
      "image/png": "[encoded data removed]",
      "text/plain": [
       "<matplotlib.figure.Figure at 0x7f339c0909e8>"
      ]
     },
     "metadata": {
      "image/png": {
       "height": 250,
       "width": 253
      }
     },
     "output_type": "display_data"
    }
   ],
   "source": [
    "%matplotlib inline\n",
    "%config InlineBackend.figure_format = 'retina'\n",
    "\n",
    "import helper\n",
    "import numpy as np\n",
    "\n",
    "# Explore the dataset\n",
    "batch_id = 1\n",
    "sample_id = 5\n",
    "helper.display_stats(cifar10_dataset_folder_path, batch_id, sample_id)"
   ]
  },
  {
   "cell_type": "markdown",
   "metadata": {},
   "source": [
    "## Implement Preprocess Functions\n",
    "### Normalize\n",
    "In the cell below, implement the `normalize` function to take in image data, `x`, and return it as a normalized Numpy array. The values should be in the range of 0 to 1, inclusive.  The return object should be the same shape as `x`."
   ]
  },
  {
   "cell_type": "code",
   "execution_count": 4,
   "metadata": {},
   "outputs": [
    {
     "name": "stdout",
     "output_type": "stream",
     "text": [
      "Tests Passed\n"
     ]
    }
   ],
   "source": [
    "def normalize(x):\n",
    "    \"\"\"\n",
    "    Normalize a list of sample image data in the range of 0 to 1\n",
    "    : x: List of image data.  The image shape is (32, 32, 3)\n",
    "    : return: Numpy array of normalize data\n",
    "    \"\"\"\n",
    "    # TODO: Implement Function\n",
    "    return x/255\n",
    "\n",
    "\n",
    "\"\"\"\n",
    "DON'T MODIFY ANYTHING IN THIS CELL THAT IS BELOW THIS LINE\n",
    "\"\"\"\n",
    "tests.test_normalize(normalize)"
   ]
  },
  {
   "cell_type": "markdown",
   "metadata": {},
   "source": [
    "### One-hot encode\n",
    "Just like the previous code cell, you'll be implementing a function for preprocessing.  This time, you'll implement the `one_hot_encode` function. The input, `x`, are a list of labels.  Implement the function to return the list of labels as One-Hot encoded Numpy array.  The possible values for labels are 0 to 9. The one-hot encoding function should return the same encoding for each value between each call to `one_hot_encode`.  Make sure to save the map of encodings outside the function.\n",
    "\n",
    "Hint: Don't reinvent the wheel."
   ]
  },
  {
   "cell_type": "code",
   "execution_count": 5,
   "metadata": {},
   "outputs": [
    {
     "name": "stdout",
     "output_type": "stream",
     "text": [
      "Tests Passed\n"
     ]
    }
   ],
   "source": [
    "# implementing one_hot_encoder of sklearn\n",
    "# http://scikit-learn.org/stable/modules/generated/sklearn.preprocessing.OneHotEncoder.html\n",
    "from sklearn.preprocessing import OneHotEncoder\n",
    "def one_hot_encode(x,n = 10):\n",
    "    \"\"\"\n",
    "    One hot encode a list of sample labels. Return a one-hot encoded vector for each label.\n",
    "    : x: List of sample Labels\n",
    "    : return: Numpy array of one-hot encoded labels\n",
    "    \"\"\"\n",
    "    # TODO: Implement Function\n",
    "    encode = OneHotEncoder(n_values = n)\n",
    "    enc_label = encode.fit_transform(np.array(x).reshape(-1,1)).toarray()\n",
    "    return enc_label\n",
    "\n",
    "\n",
    "\"\"\"\n",
    "DON'T MODIFY ANYTHING IN THIS CELL THAT IS BELOW THIS LINE\n",
    "\"\"\"\n",
    "tests.test_one_hot_encode(one_hot_encode)"
   ]
  },
  {
   "cell_type": "markdown",
   "metadata": {},
   "source": [
    "### Randomize Data\n",
    "As you saw from exploring the data above, the order of the samples are randomized.  It doesn't hurt to randomize it again, but you don't need to for this dataset."
   ]
  },
  {
   "cell_type": "markdown",
   "metadata": {},
   "source": [
    "## Preprocess all the data and save it\n",
    "Running the code cell below will preprocess all the CIFAR-10 data and save it to file. The code below also uses 10% of the training data for validation."
   ]
  },
  {
   "cell_type": "code",
   "execution_count": 6,
   "metadata": {},
   "outputs": [],
   "source": [
    "\"\"\"\n",
    "DON'T MODIFY ANYTHING IN THIS CELL\n",
    "\"\"\"\n",
    "# Preprocess Training, Validation, and Testing Data\n",
    "helper.preprocess_and_save_data(cifar10_dataset_folder_path, normalize, one_hot_encode)"
   ]
  },
  {
   "cell_type": "markdown",
   "metadata": {},
   "source": [
    "# Check Point\n",
    "This is your first checkpoint.  If you ever decide to come back to this notebook or have to restart the notebook, you can start from here.  The preprocessed data has been saved to disk."
   ]
  },
  {
   "cell_type": "code",
   "execution_count": 7,
   "metadata": {},
   "outputs": [],
   "source": [
    "\"\"\"\n",
    "DON'T MODIFY ANYTHING IN THIS CELL\n",
    "\"\"\"\n",
    "import pickle\n",
    "import problem_unittests as tests\n",
    "import helper\n",
    "\n",
    "# Load the Preprocessed Validation data\n",
    "valid_features, valid_labels = pickle.load(open('preprocess_validation.p', mode='rb'))"
   ]
  },
  {
   "cell_type": "markdown",
   "metadata": {},
   "source": [
    "## Build the network\n",
    "For the neural network, you'll build each layer into a function.  Most of the code you've seen has been outside of functions. To test your code more thoroughly, we require that you put each layer in a function.  This allows us to give you better feedback and test for simple mistakes using our unittests before you submit your project.\n",
    "\n",
    ">**Note:** If you're finding it hard to dedicate enough time for this course each week, we've provided a small shortcut to this part of the project. In the next couple of problems, you'll have the option to use classes from the [TensorFlow Layers](https://www.tensorflow.org/api_docs/python/tf/layers) or [TensorFlow Layers (contrib)](https://www.tensorflow.org/api_guides/python/contrib.layers) packages to build each layer, except the layers you build in the \"Convolutional and Max Pooling Layer\" section.  TF Layers is similar to Keras's and TFLearn's abstraction to layers, so it's easy to pickup.\n",
    "\n",
    ">However, if you would like to get the most out of this course, try to solve all the problems _without_ using anything from the TF Layers packages. You **can** still use classes from other packages that happen to have the same name as ones you find in TF Layers! For example, instead of using the TF Layers version of the `conv2d` class, [tf.layers.conv2d](https://www.tensorflow.org/api_docs/python/tf/layers/conv2d), you would want to use the TF Neural Network version of `conv2d`, [tf.nn.conv2d](https://www.tensorflow.org/api_docs/python/tf/nn/conv2d). \n",
    "\n",
    "Let's begin!\n",
    "\n",
    "### Input\n",
    "The neural network needs to read the image data, one-hot encoded labels, and dropout keep probability. Implement the following functions\n",
    "* Implement `neural_net_image_input`\n",
    " * Return a [TF Placeholder](https://www.tensorflow.org/api_docs/python/tf/placeholder)\n",
    " * Set the shape using `image_shape` with batch size set to `None`.\n",
    " * Name the TensorFlow placeholder \"x\" using the TensorFlow `name` parameter in the [TF Placeholder](https://www.tensorflow.org/api_docs/python/tf/placeholder).\n",
    "* Implement `neural_net_label_input`\n",
    " * Return a [TF Placeholder](https://www.tensorflow.org/api_docs/python/tf/placeholder)\n",
    " * Set the shape using `n_classes` with batch size set to `None`.\n",
    " * Name the TensorFlow placeholder \"y\" using the TensorFlow `name` parameter in the [TF Placeholder](https://www.tensorflow.org/api_docs/python/tf/placeholder).\n",
    "* Implement `neural_net_keep_prob_input`\n",
    " * Return a [TF Placeholder](https://www.tensorflow.org/api_docs/python/tf/placeholder) for dropout keep probability.\n",
    " * Name the TensorFlow placeholder \"keep_prob\" using the TensorFlow `name` parameter in the [TF Placeholder](https://www.tensorflow.org/api_docs/python/tf/placeholder).\n",
    "\n",
    "These names will be used at the end of the project to load your saved model.\n",
    "\n",
    "Note: `None` for shapes in TensorFlow allow for a dynamic size."
   ]
  },
  {
   "cell_type": "code",
   "execution_count": 8,
   "metadata": {},
   "outputs": [
    {
     "name": "stdout",
     "output_type": "stream",
     "text": [
      "Image Input Tests Passed.\n",
      "Label Input Tests Passed.\n",
      "Keep Prob Tests Passed.\n"
     ]
    }
   ],
   "source": [
    "import tensorflow as tf\n",
    "\n",
    "def neural_net_image_input(image_shape):\n",
    "    \"\"\"\n",
    "    Return a Tensor for a batch of image input\n",
    "    : image_shape: Shape of the images\n",
    "    : return: Tensor for image input.\n",
    "    \"\"\"\n",
    "    # TODO: Implement Function\n",
    "    return tf.placeholder(tf.float32, name = 'x' , shape = [None, image_shape[0],image_shape[1],image_shape[2]])\n",
    "\n",
    "def neural_net_label_input(n_classes):\n",
    "    \"\"\"\n",
    "    Return a Tensor for a batch of label input\n",
    "    : n_classes: Number of classes\n",
    "    : return: Tensor for label input.\n",
    "    \"\"\"\n",
    "    # TODO: Implement Function\n",
    "    return tf.placeholder(tf.float32, name ='y', shape = [None, n_classes])\n",
    "\n",
    "\n",
    "def neural_net_keep_prob_input():\n",
    "    \"\"\"\n",
    "    Return a Tensor for keep probability\n",
    "    : return: Tensor for keep probability.\n",
    "    \"\"\"\n",
    "    # TODO: Implement Function\n",
    "    return tf.placeholder(tf.float32, name = 'keep_prob', shape = None)\n",
    "\n",
    "\n",
    "\"\"\"\n",
    "DON'T MODIFY ANYTHING IN THIS CELL THAT IS BELOW THIS LINE\n",
    "\"\"\"\n",
    "tf.reset_default_graph()\n",
    "tests.test_nn_image_inputs(neural_net_image_input)\n",
    "tests.test_nn_label_inputs(neural_net_label_input)\n",
    "tests.test_nn_keep_prob_inputs(neural_net_keep_prob_input)"
   ]
  },
  {
   "cell_type": "markdown",
   "metadata": {},
   "source": [
    "### Convolution and Max Pooling Layer\n",
    "Convolution layers have a lot of success with images. For this code cell, you should implement the function `conv2d_maxpool` to apply convolution then max pooling:\n",
    "* Create the weight and bias using `conv_ksize`, `conv_num_outputs` and the shape of `x_tensor`.\n",
    "* Apply a convolution to `x_tensor` using weight and `conv_strides`.\n",
    " * We recommend you use same padding, but you're welcome to use any padding.\n",
    "* Add bias\n",
    "* Add a nonlinear activation to the convolution.\n",
    "* Apply Max Pooling using `pool_ksize` and `pool_strides`.\n",
    " * We recommend you use same padding, but you're welcome to use any padding.\n",
    "\n",
    "**Note:** You **can't** use [TensorFlow Layers](https://www.tensorflow.org/api_docs/python/tf/layers) or [TensorFlow Layers (contrib)](https://www.tensorflow.org/api_guides/python/contrib.layers) for **this** layer, but you can still use TensorFlow's [Neural Network](https://www.tensorflow.org/api_docs/python/tf/nn) package. You may still use the shortcut option for all the **other** layers."
   ]
  },
  {
   "cell_type": "code",
   "execution_count": 9,
   "metadata": {},
   "outputs": [
    {
     "name": "stdout",
     "output_type": "stream",
     "text": [
      "Tests Passed\n"
     ]
    }
   ],
   "source": [
    "def conv2d_maxpool(x_tensor, conv_num_outputs, conv_ksize, conv_strides, pool_ksize, pool_strides):\n",
    "    \"\"\"\n",
    "    Apply convolution then max pooling to x_tensor\n",
    "    :param x_tensor: TensorFlow Tensor\n",
    "    :param conv_num_outputs: Number of outputs for the convolutional layer\n",
    "    :param conv_ksize: kernal size 2-D Tuple for the convolutional layer\n",
    "    :param conv_strides: Stride 2-D Tuple for convolution\n",
    "    :param pool_ksize: kernal size 2-D Tuple for pool\n",
    "    :param pool_strides: Stride 2-D Tuple for pool\n",
    "    : return: A tensor that represents convolution and max pooling of x_tensor\n",
    "    \"\"\"\n",
    "    # TODO: Implement Function\n",
    "    shape =  x_tensor.shape[3].value\n",
    "    weight = tf.Variable(tf.truncated_normal([conv_ksize[0], conv_ksize[1], shape, conv_num_outputs], stddev = .2))\n",
    "    bias = tf.Variable(tf.zeros(conv_num_outputs))\n",
    "    # 2D Convolution Layer.\n",
    "    output = tf.nn.conv2d(x_tensor, weight,strides=[1, conv_strides[0], conv_strides[1], 1],padding='SAME')\n",
    "    output = tf.nn.bias_add(output, bias)\n",
    "    output = tf.nn.relu(output)\n",
    "\n",
    "    # Pooling layer.\n",
    "    output = tf.nn.max_pool(output, ksize=[1, pool_ksize[0], pool_ksize[1], 1],strides=[1, pool_strides[0], pool_strides[1], 1],padding='SAME')\n",
    "    return output\n",
    "\n",
    "\n",
    "\"\"\"\n",
    "DON'T MODIFY ANYTHING IN THIS CELL THAT IS BELOW THIS LINE\n",
    "\"\"\"\n",
    "tests.test_con_pool(conv2d_maxpool)"
   ]
  },
  {
   "cell_type": "markdown",
   "metadata": {},
   "source": [
    "### Flatten Layer\n",
    "Implement the `flatten` function to change the dimension of `x_tensor` from a 4-D tensor to a 2-D tensor.  The output should be the shape (*Batch Size*, *Flattened Image Size*). Shortcut option: you can use classes from the [TensorFlow Layers](https://www.tensorflow.org/api_docs/python/tf/layers) or [TensorFlow Layers (contrib)](https://www.tensorflow.org/api_guides/python/contrib.layers) packages for this layer. For more of a challenge, only use other TensorFlow packages."
   ]
  },
  {
   "cell_type": "code",
   "execution_count": 12,
   "metadata": {},
   "outputs": [
    {
     "name": "stdout",
     "output_type": "stream",
     "text": [
      "Tests Passed\n"
     ]
    }
   ],
   "source": [
    "def flatten(x_tensor):\n",
    "    \"\"\"\n",
    "    Flatten x_tensor to (Batch Size, Flattened Image Size)\n",
    "    : x_tensor: A tensor of size (Batch Size, ...), where ... are the image dimensions.\n",
    "    : return: A tensor of size (Batch Size, Flattened Image Size).\n",
    "    \"\"\"\n",
    "    # TODO: Implement Function\n",
    "    # using https://www.tensorflow.org/api_docs/python/tf/contrib/layers/flatten\n",
    "    return tf.contrib.layers.flatten(x_tensor)\n",
    "\n",
    "\n",
    "\"\"\"\n",
    "DON'T MODIFY ANYTHING IN THIS CELL THAT IS BELOW THIS LINE\n",
    "\"\"\"\n",
    "tests.test_flatten(flatten)"
   ]
  },
  {
   "cell_type": "markdown",
   "metadata": {},
   "source": [
    "### Fully-Connected Layer\n",
    "Implement the `fully_conn` function to apply a fully connected layer to `x_tensor` with the shape (*Batch Size*, *num_outputs*). Shortcut option: you can use classes from the [TensorFlow Layers](https://www.tensorflow.org/api_docs/python/tf/layers) or [TensorFlow Layers (contrib)](https://www.tensorflow.org/api_guides/python/contrib.layers) packages for this layer. For more of a challenge, only use other TensorFlow packages."
   ]
  },
  {
   "cell_type": "code",
   "execution_count": 13,
   "metadata": {},
   "outputs": [
    {
     "name": "stdout",
     "output_type": "stream",
     "text": [
      "Tests Passed\n"
     ]
    }
   ],
   "source": [
    "def fully_conn(x_tensor, num_outputs):\n",
    "    \"\"\"\n",
    "    Apply a fully connected layer to x_tensor using weight and bias\n",
    "    : x_tensor: A 2-D tensor where the first dimension is batch size.\n",
    "    : num_outputs: The number of output that the new tensor should be.\n",
    "    : return: A 2-D tensor where the second dimension is num_outputs.\n",
    "    \"\"\"\n",
    "    # TODO: Implement Function\n",
    "    features = x_tensor.shape[1].value\n",
    "    weight = tf.Variable(tf.truncated_normal([features, num_outputs], stddev=0.2))\n",
    "    bias = tf.Variable(tf.zeros([num_outputs]))\n",
    "\n",
    "    # Fully convolution layer.\n",
    "    output = tf.add(tf.matmul(x_tensor, weight), bias)\n",
    "    return tf.nn.relu(output)\n",
    "\n",
    "\n",
    "\"\"\"\n",
    "DON'T MODIFY ANYTHING IN THIS CELL THAT IS BELOW THIS LINE\n",
    "\"\"\"\n",
    "tests.test_fully_conn(fully_conn)"
   ]
  },
  {
   "cell_type": "markdown",
   "metadata": {},
   "source": [
    "### Output Layer\n",
    "Implement the `output` function to apply a fully connected layer to `x_tensor` with the shape (*Batch Size*, *num_outputs*). Shortcut option: you can use classes from the [TensorFlow Layers](https://www.tensorflow.org/api_docs/python/tf/layers) or [TensorFlow Layers (contrib)](https://www.tensorflow.org/api_guides/python/contrib.layers) packages for this layer. For more of a challenge, only use other TensorFlow packages.\n",
    "\n",
    "**Note:** Activation, softmax, or cross entropy should **not** be applied to this."
   ]
  },
  {
   "cell_type": "code",
   "execution_count": 14,
   "metadata": {},
   "outputs": [
    {
     "name": "stdout",
     "output_type": "stream",
     "text": [
      "Tests Passed\n"
     ]
    }
   ],
   "source": [
    "def output(x_tensor, num_outputs):\n",
    "    \"\"\"\n",
    "    Apply a output layer to x_tensor using weight and bias\n",
    "    : x_tensor: A 2-D tensor where the first dimension is batch size.\n",
    "    : num_outputs: The number of output that the new tensor should be.\n",
    "    : return: A 2-D tensor where the second dimension is num_outputs.\n",
    "    \"\"\"\n",
    "    # TODO: Implement Function\n",
    "    features = x_tensor.shape[1].value\n",
    "    biases = tf.Variable(tf.zeros([num_outputs]))\n",
    "    weight = tf.Variable(tf.truncated_normal([features,num_outputs], stddev = 0.2))\n",
    "    return tf.add(tf.matmul(x_tensor,weight),biases)\n",
    "\n",
    "\n",
    "\"\"\"\n",
    "DON'T MODIFY ANYTHING IN THIS CELL THAT IS BELOW THIS LINE\n",
    "\"\"\"\n",
    "tests.test_output(output)"
   ]
  },
  {
   "cell_type": "markdown",
   "metadata": {},
   "source": [
    "### Create Convolutional Model\n",
    "Implement the function `conv_net` to create a convolutional neural network model. The function takes in a batch of images, `x`, and outputs logits.  Use the layers you created above to create this model:\n",
    "\n",
    "* Apply 1, 2, or 3 Convolution and Max Pool layers\n",
    "* Apply a Flatten Layer\n",
    "* Apply 1, 2, or 3 Fully Connected Layers\n",
    "* Apply an Output Layer\n",
    "* Return the output\n",
    "* Apply [TensorFlow's Dropout](https://www.tensorflow.org/api_docs/python/tf/nn/dropout) to one or more layers in the model using `keep_prob`. "
   ]
  },
  {
   "cell_type": "code",
   "execution_count": 15,
   "metadata": {},
   "outputs": [
    {
     "name": "stdout",
     "output_type": "stream",
     "text": [
      "Neural Network Built!\n"
     ]
    }
   ],
   "source": [
    "def conv_net(x, keep_prob):\n",
    "    \"\"\"\n",
    "    Create a convolutional neural network model\n",
    "    : x: Placeholder tensor that holds image data.\n",
    "    : keep_prob: Placeholder tensor that hold dropout keep probability.\n",
    "    : return: Tensor that represents logits\n",
    "    \"\"\"\n",
    "    # TODO: Apply 1, 2, or 3 Convolution and Max Pool layers\n",
    "    #    Play around with different number of outputs, kernel size and stride\n",
    "    # Function Definition from Above:\n",
    "    #    conv2d_maxpool(x_tensor, conv_num_outputs, conv_ksize, conv_strides, pool_ksize, pool_strides)\n",
    "    \n",
    "    output_conv = 40\n",
    "    size_conv = [4,4]\n",
    "    stride_conv = [1,1]\n",
    "    size_pool = [2,2]\n",
    "    stride_pool = [3,3]\n",
    "    \n",
    "    layer_conv = conv2d_maxpool(x, output_conv,size_conv,stride_conv,size_pool,stride_pool)\n",
    "    \n",
    "    \n",
    "\n",
    "    # TODO: Apply a Flatten Layer\n",
    "    # Function Definition from Above:\n",
    "    #   flatten(x_tensor)\n",
    "    \n",
    "    flat_layer = flatten(layer_conv)\n",
    "    \n",
    "\n",
    "    # TODO: Apply 1, 2, or 3 Fully Connected Layers\n",
    "    #    Play around with different number of outputs\n",
    "    # Function Definition from Above:\n",
    "    #   fully_conn(x_tensor, num_outputs)\n",
    "    \n",
    "    full_conv = fully_conn(flat_layer, 100)\n",
    "    full_conv = tf.nn.dropout(full_conv, keep_prob)\n",
    "    \n",
    "    \n",
    "    # TODO: Apply an Output Layer\n",
    "    #    Set this to the number of classes\n",
    "    # Function Definition from Above:\n",
    "    #   output(x_tensor, num_outputs)\n",
    "    \n",
    "    output_layer = output(full_conv, 10)\n",
    "    \n",
    "    # TODO: return output\n",
    "    return output_layer\n",
    "\n",
    "\n",
    "\"\"\"\n",
    "DON'T MODIFY ANYTHING IN THIS CELL THAT IS BELOW THIS LINE\n",
    "\"\"\"\n",
    "\n",
    "##############################\n",
    "## Build the Neural Network ##\n",
    "##############################\n",
    "\n",
    "# Remove previous weights, bias, inputs, etc..\n",
    "tf.reset_default_graph()\n",
    "\n",
    "# Inputs\n",
    "x = neural_net_image_input((32, 32, 3))\n",
    "y = neural_net_label_input(10)\n",
    "keep_prob = neural_net_keep_prob_input()\n",
    "\n",
    "# Model\n",
    "logits = conv_net(x, keep_prob)\n",
    "\n",
    "# Name logits Tensor, so that is can be loaded from disk after training\n",
    "logits = tf.identity(logits, name='logits')\n",
    "\n",
    "# Loss and Optimizer\n",
    "cost = tf.reduce_mean(tf.nn.softmax_cross_entropy_with_logits(logits=logits, labels=y))\n",
    "optimizer = tf.train.AdamOptimizer().minimize(cost)\n",
    "\n",
    "# Accuracy\n",
    "correct_pred = tf.equal(tf.argmax(logits, 1), tf.argmax(y, 1))\n",
    "accuracy = tf.reduce_mean(tf.cast(correct_pred, tf.float32), name='accuracy')\n",
    "\n",
    "tests.test_conv_net(conv_net)"
   ]
  },
  {
   "cell_type": "markdown",
   "metadata": {},
   "source": [
    "## Train the Neural Network\n",
    "### Single Optimization\n",
    "Implement the function `train_neural_network` to do a single optimization.  The optimization should use `optimizer` to optimize in `session` with a `feed_dict` of the following:\n",
    "* `x` for image input\n",
    "* `y` for labels\n",
    "* `keep_prob` for keep probability for dropout\n",
    "\n",
    "This function will be called for each batch, so `tf.global_variables_initializer()` has already been called.\n",
    "\n",
    "Note: Nothing needs to be returned. This function is only optimizing the neural network."
   ]
  },
  {
   "cell_type": "code",
   "execution_count": 16,
   "metadata": {},
   "outputs": [
    {
     "name": "stdout",
     "output_type": "stream",
     "text": [
      "Tests Passed\n"
     ]
    }
   ],
   "source": [
    "def train_neural_network(session, optimizer, keep_probability, feature_batch, label_batch):\n",
    "    \"\"\"\n",
    "    Optimize the session on a batch of images and labels\n",
    "    : session: Current TensorFlow session\n",
    "    : optimizer: TensorFlow optimizer function\n",
    "    : keep_probability: keep probability\n",
    "    : feature_batch: Batch of Numpy image data\n",
    "    : label_batch: Batch of Numpy label data\n",
    "    \"\"\"\n",
    "    # TODO: Implement Function\n",
    "    session.run(optimizer, feed_dict={x:feature_batch, y:label_batch, keep_prob:keep_probability})\n",
    "\n",
    "\n",
    "\"\"\"\n",
    "DON'T MODIFY ANYTHING IN THIS CELL THAT IS BELOW THIS LINE\n",
    "\"\"\"\n",
    "tests.test_train_nn(train_neural_network)"
   ]
  },
  {
   "cell_type": "markdown",
   "metadata": {},
   "source": [
    "### Show Stats\n",
    "Implement the function `print_stats` to print loss and validation accuracy.  Use the global variables `valid_features` and `valid_labels` to calculate validation accuracy.  Use a keep probability of `1.0` to calculate the loss and validation accuracy."
   ]
  },
  {
   "cell_type": "code",
   "execution_count": 17,
   "metadata": {},
   "outputs": [],
   "source": [
    "def print_stats(session, feature_batch, label_batch, cost, accuracy):\n",
    "    \"\"\"\n",
    "    Print information about loss and validation accuracy\n",
    "    : session: Current TensorFlow session\n",
    "    : feature_batch: Batch of Numpy image data\n",
    "    : label_batch: Batch of Numpy label data\n",
    "    : cost: TensorFlow cost function\n",
    "    : accuracy: TensorFlow accuracy function\n",
    "    \"\"\"\n",
    "    # TODO: Implement Function\n",
    "    loss = sess.run(cost, feed_dict= {x:feature_batch, y:label_batch, keep_prob:1.0})\n",
    "    accuracy = sess.run(accuracy, feed_dict={x:valid_features, y:valid_labels, keep_prob:1.0})\n",
    "    \n",
    "    \n",
    "    print(' LOSS = {0}  \\t ACCURACY_Percentage = {1} '.format(loss, accuracy*100)) "
   ]
  },
  {
   "cell_type": "markdown",
   "metadata": {},
   "source": [
    "### Hyperparameters\n",
    "Tune the following parameters:\n",
    "* Set `epochs` to the number of iterations until the network stops learning or start overfitting\n",
    "* Set `batch_size` to the highest number that your machine has memory for.  Most people set them to common sizes of memory:\n",
    " * 64\n",
    " * 128\n",
    " * 256\n",
    " * ...\n",
    "* Set `keep_probability` to the probability of keeping a node using dropout"
   ]
  },
  {
   "cell_type": "code",
   "execution_count": 20,
   "metadata": {},
   "outputs": [],
   "source": [
    "# TODO: Tune Parameters\n",
    "epochs = 50\n",
    "batch_size = 64\n",
    "keep_probability = 0.80"
   ]
  },
  {
   "cell_type": "markdown",
   "metadata": {},
   "source": [
    "### Train on a Single CIFAR-10 Batch\n",
    "Instead of training the neural network on all the CIFAR-10 batches of data, let's use a single batch. This should save time while you iterate on the model to get a better accuracy.  Once the final validation accuracy is 50% or greater, run the model on all the data in the next section."
   ]
  },
  {
   "cell_type": "code",
   "execution_count": 19,
   "metadata": {},
   "outputs": [
    {
     "name": "stdout",
     "output_type": "stream",
     "text": [
      "Checking the Training on a Single Batch...\n",
      "Epoch  1, CIFAR-10 Batch 1:   LOSS = 2.1695666313171387  \t ACCURACY_Percentage = 26.460000872612 \n",
      "Epoch  2, CIFAR-10 Batch 1:   LOSS = 2.112273693084717  \t ACCURACY_Percentage = 35.280001163482666 \n",
      "Epoch  3, CIFAR-10 Batch 1:   LOSS = 1.9841630458831787  \t ACCURACY_Percentage = 40.34000039100647 \n",
      "Epoch  4, CIFAR-10 Batch 1:   LOSS = 1.8104782104492188  \t ACCURACY_Percentage = 43.75999867916107 \n",
      "Epoch  5, CIFAR-10 Batch 1:   LOSS = 1.6381639242172241  \t ACCURACY_Percentage = 44.58000063896179 \n",
      "Epoch  6, CIFAR-10 Batch 1:   LOSS = 1.5179469585418701  \t ACCURACY_Percentage = 46.07999920845032 \n",
      "Epoch  7, CIFAR-10 Batch 1:   LOSS = 1.440895915031433  \t ACCURACY_Percentage = 47.49999940395355 \n",
      "Epoch  8, CIFAR-10 Batch 1:   LOSS = 1.3787328004837036  \t ACCURACY_Percentage = 47.54000008106232 \n",
      "Epoch  9, CIFAR-10 Batch 1:   LOSS = 1.3187977075576782  \t ACCURACY_Percentage = 49.000000953674316 \n",
      "Epoch 10, CIFAR-10 Batch 1:   LOSS = 1.1853513717651367  \t ACCURACY_Percentage = 50.13999938964844 \n",
      "Epoch 11, CIFAR-10 Batch 1:   LOSS = 1.086080551147461  \t ACCURACY_Percentage = 50.23999810218811 \n",
      "Epoch 12, CIFAR-10 Batch 1:   LOSS = 1.0743627548217773  \t ACCURACY_Percentage = 49.799999594688416 \n",
      "Epoch 13, CIFAR-10 Batch 1:   LOSS = 0.9145416021347046  \t ACCURACY_Percentage = 50.80000162124634 \n",
      "Epoch 14, CIFAR-10 Batch 1:   LOSS = 0.8189524412155151  \t ACCURACY_Percentage = 51.39999985694885 \n",
      "Epoch 15, CIFAR-10 Batch 1:   LOSS = 0.7253241539001465  \t ACCURACY_Percentage = 51.980000734329224 \n",
      "Epoch 16, CIFAR-10 Batch 1:   LOSS = 0.6517161726951599  \t ACCURACY_Percentage = 52.10000276565552 \n",
      "Epoch 17, CIFAR-10 Batch 1:   LOSS = 0.6743354797363281  \t ACCURACY_Percentage = 51.52000188827515 \n",
      "Epoch 18, CIFAR-10 Batch 1:   LOSS = 0.6016426086425781  \t ACCURACY_Percentage = 51.179999113082886 \n",
      "Epoch 19, CIFAR-10 Batch 1:   LOSS = 0.560248076915741  \t ACCURACY_Percentage = 51.660001277923584 \n",
      "Epoch 20, CIFAR-10 Batch 1:   LOSS = 0.5333196520805359  \t ACCURACY_Percentage = 51.48000121116638 \n",
      "Epoch 21, CIFAR-10 Batch 1:   LOSS = 0.4775109887123108  \t ACCURACY_Percentage = 51.260000467300415 \n",
      "Epoch 22, CIFAR-10 Batch 1:   LOSS = 0.4505007863044739  \t ACCURACY_Percentage = 51.419997215270996 \n",
      "Epoch 23, CIFAR-10 Batch 1:   LOSS = 0.43768054246902466  \t ACCURACY_Percentage = 51.980000734329224 \n",
      "Epoch 24, CIFAR-10 Batch 1:   LOSS = 0.32039201259613037  \t ACCURACY_Percentage = 51.74000263214111 \n",
      "Epoch 25, CIFAR-10 Batch 1:   LOSS = 0.33216747641563416  \t ACCURACY_Percentage = 51.94000005722046 \n",
      "Epoch 26, CIFAR-10 Batch 1:   LOSS = 0.2737446427345276  \t ACCURACY_Percentage = 51.08000040054321 \n",
      "Epoch 27, CIFAR-10 Batch 1:   LOSS = 0.34583014249801636  \t ACCURACY_Percentage = 51.13999843597412 \n",
      "Epoch 28, CIFAR-10 Batch 1:   LOSS = 0.2516513764858246  \t ACCURACY_Percentage = 51.31999850273132 \n",
      "Epoch 29, CIFAR-10 Batch 1:   LOSS = 0.22394967079162598  \t ACCURACY_Percentage = 52.139997482299805 \n",
      "Epoch 30, CIFAR-10 Batch 1:   LOSS = 0.25133630633354187  \t ACCURACY_Percentage = 51.99999809265137 \n",
      "Epoch 31, CIFAR-10 Batch 1:   LOSS = 0.20496371388435364  \t ACCURACY_Percentage = 51.88000202178955 \n",
      "Epoch 32, CIFAR-10 Batch 1:   LOSS = 0.21012310683727264  \t ACCURACY_Percentage = 51.899999380111694 \n",
      "Epoch 33, CIFAR-10 Batch 1:   LOSS = 0.15706710517406464  \t ACCURACY_Percentage = 51.85999870300293 \n",
      "Epoch 34, CIFAR-10 Batch 1:   LOSS = 0.15475885570049286  \t ACCURACY_Percentage = 52.57999897003174 \n",
      "Epoch 35, CIFAR-10 Batch 1:   LOSS = 0.14594486355781555  \t ACCURACY_Percentage = 51.63999795913696 \n",
      "Epoch 36, CIFAR-10 Batch 1:   LOSS = 0.1271873265504837  \t ACCURACY_Percentage = 51.7799973487854 \n",
      "Epoch 37, CIFAR-10 Batch 1:   LOSS = 0.11613275855779648  \t ACCURACY_Percentage = 51.499998569488525 \n",
      "Epoch 38, CIFAR-10 Batch 1:   LOSS = 0.0887058898806572  \t ACCURACY_Percentage = 52.480000257492065 \n",
      "Epoch 39, CIFAR-10 Batch 1:   LOSS = 0.09327486157417297  \t ACCURACY_Percentage = 52.399998903274536 \n",
      "Epoch 40, CIFAR-10 Batch 1:   LOSS = 0.06431040167808533  \t ACCURACY_Percentage = 51.56000256538391 \n",
      "Epoch 41, CIFAR-10 Batch 1:   LOSS = 0.06430986523628235  \t ACCURACY_Percentage = 51.9599974155426 \n",
      "Epoch 42, CIFAR-10 Batch 1:   LOSS = 0.04745008423924446  \t ACCURACY_Percentage = 52.03999876976013 \n",
      "Epoch 43, CIFAR-10 Batch 1:   LOSS = 0.041043080389499664  \t ACCURACY_Percentage = 51.67999863624573 \n",
      "Epoch 44, CIFAR-10 Batch 1:   LOSS = 0.04265512898564339  \t ACCURACY_Percentage = 52.97999978065491 \n",
      "Epoch 45, CIFAR-10 Batch 1:   LOSS = 0.05527655407786369  \t ACCURACY_Percentage = 51.899999380111694 \n",
      "Epoch 46, CIFAR-10 Batch 1:   LOSS = 0.05090361833572388  \t ACCURACY_Percentage = 51.56000256538391 \n",
      "Epoch 47, CIFAR-10 Batch 1:   LOSS = 0.031247112900018692  \t ACCURACY_Percentage = 52.06000208854675 \n",
      "Epoch 48, CIFAR-10 Batch 1:   LOSS = 0.049036163836717606  \t ACCURACY_Percentage = 52.70000100135803 \n",
      "Epoch 49, CIFAR-10 Batch 1:   LOSS = 0.04023392125964165  \t ACCURACY_Percentage = 52.640002965927124 \n",
      "Epoch 50, CIFAR-10 Batch 1:   LOSS = 0.029215436428785324  \t ACCURACY_Percentage = 52.89999842643738 \n"
     ]
    }
   ],
   "source": [
    "\"\"\"\n",
    "DON'T MODIFY ANYTHING IN THIS CELL\n",
    "\"\"\"\n",
    "print('Checking the Training on a Single Batch...')\n",
    "with tf.Session() as sess:\n",
    "    # Initializing the variables\n",
    "    sess.run(tf.global_variables_initializer())\n",
    "    \n",
    "    # Training cycle\n",
    "    for epoch in range(epochs):\n",
    "        batch_i = 1\n",
    "        for batch_features, batch_labels in helper.load_preprocess_training_batch(batch_i, batch_size):\n",
    "            train_neural_network(sess, optimizer, keep_probability, batch_features, batch_labels)\n",
    "        print('Epoch {:>2}, CIFAR-10 Batch {}:  '.format(epoch + 1, batch_i), end='')\n",
    "        print_stats(sess, batch_features, batch_labels, cost, accuracy)"
   ]
  },
  {
   "cell_type": "markdown",
   "metadata": {},
   "source": [
    "### Fully Train the Model\n",
    "Now that you got a good accuracy with a single CIFAR-10 batch, try it with all five batches."
   ]
  },
  {
   "cell_type": "code",
   "execution_count": 21,
   "metadata": {},
   "outputs": [
    {
     "name": "stdout",
     "output_type": "stream",
     "text": [
      "Training...\n",
      "Epoch  1, CIFAR-10 Batch 1:   LOSS = 2.0515353679656982  \t ACCURACY_Percentage = 29.13999855518341 \n",
      "Epoch  1, CIFAR-10 Batch 2:   LOSS = 1.801609992980957  \t ACCURACY_Percentage = 38.280001282691956 \n",
      "Epoch  1, CIFAR-10 Batch 3:   LOSS = 1.6468604803085327  \t ACCURACY_Percentage = 41.11999869346619 \n",
      "Epoch  1, CIFAR-10 Batch 4:   LOSS = 1.5054782629013062  \t ACCURACY_Percentage = 45.19999921321869 \n",
      "Epoch  1, CIFAR-10 Batch 5:   LOSS = 1.5645464658737183  \t ACCURACY_Percentage = 47.90000021457672 \n",
      "Epoch  2, CIFAR-10 Batch 1:   LOSS = 1.6330715417861938  \t ACCURACY_Percentage = 48.05999994277954 \n",
      "Epoch  2, CIFAR-10 Batch 2:   LOSS = 1.2074670791625977  \t ACCURACY_Percentage = 48.8400012254715 \n",
      "Epoch  2, CIFAR-10 Batch 3:   LOSS = 1.150901436805725  \t ACCURACY_Percentage = 51.56000256538391 \n",
      "Epoch  2, CIFAR-10 Batch 4:   LOSS = 1.2092481851577759  \t ACCURACY_Percentage = 52.85999774932861 \n",
      "Epoch  2, CIFAR-10 Batch 5:   LOSS = 1.3534924983978271  \t ACCURACY_Percentage = 53.24000120162964 \n",
      "Epoch  3, CIFAR-10 Batch 1:   LOSS = 1.501173973083496  \t ACCURACY_Percentage = 53.460001945495605 \n",
      "Epoch  3, CIFAR-10 Batch 2:   LOSS = 1.0200363397598267  \t ACCURACY_Percentage = 55.5400013923645 \n",
      "Epoch  3, CIFAR-10 Batch 3:   LOSS = 0.9670465588569641  \t ACCURACY_Percentage = 55.83999752998352 \n",
      "Epoch  3, CIFAR-10 Batch 4:   LOSS = 1.0354864597320557  \t ACCURACY_Percentage = 56.199997663497925 \n",
      "Epoch  3, CIFAR-10 Batch 5:   LOSS = 1.1067756414413452  \t ACCURACY_Percentage = 56.90000057220459 \n",
      "Epoch  4, CIFAR-10 Batch 1:   LOSS = 1.4083693027496338  \t ACCURACY_Percentage = 56.779998540878296 \n",
      "Epoch  4, CIFAR-10 Batch 2:   LOSS = 0.9313188791275024  \t ACCURACY_Percentage = 57.260000705718994 \n",
      "Epoch  4, CIFAR-10 Batch 3:   LOSS = 0.9008092880249023  \t ACCURACY_Percentage = 57.34000205993652 \n",
      "Epoch  4, CIFAR-10 Batch 4:   LOSS = 0.9713255167007446  \t ACCURACY_Percentage = 57.94000029563904 \n",
      "Epoch  4, CIFAR-10 Batch 5:   LOSS = 1.064199686050415  \t ACCURACY_Percentage = 58.17999839782715 \n",
      "Epoch  5, CIFAR-10 Batch 1:   LOSS = 1.2931348085403442  \t ACCURACY_Percentage = 57.819998264312744 \n",
      "Epoch  5, CIFAR-10 Batch 2:   LOSS = 0.8388433456420898  \t ACCURACY_Percentage = 58.43999981880188 \n",
      "Epoch  5, CIFAR-10 Batch 3:   LOSS = 0.7939856648445129  \t ACCURACY_Percentage = 59.50000286102295 \n",
      "Epoch  5, CIFAR-10 Batch 4:   LOSS = 0.9035785794258118  \t ACCURACY_Percentage = 59.299999475479126 \n",
      "Epoch  5, CIFAR-10 Batch 5:   LOSS = 0.907567024230957  \t ACCURACY_Percentage = 60.74000000953674 \n",
      "Epoch  6, CIFAR-10 Batch 1:   LOSS = 1.1882778406143188  \t ACCURACY_Percentage = 60.47999858856201 \n",
      "Epoch  6, CIFAR-10 Batch 2:   LOSS = 0.780839741230011  \t ACCURACY_Percentage = 59.97999906539917 \n",
      "Epoch  6, CIFAR-10 Batch 3:   LOSS = 0.7479540109634399  \t ACCURACY_Percentage = 60.43999791145325 \n",
      "Epoch  6, CIFAR-10 Batch 4:   LOSS = 0.7833455204963684  \t ACCURACY_Percentage = 60.97999811172485 \n",
      "Epoch  6, CIFAR-10 Batch 5:   LOSS = 0.7740617990493774  \t ACCURACY_Percentage = 60.69999933242798 \n",
      "Epoch  7, CIFAR-10 Batch 1:   LOSS = 1.1449569463729858  \t ACCURACY_Percentage = 60.280001163482666 \n",
      "Epoch  7, CIFAR-10 Batch 2:   LOSS = 0.7235115766525269  \t ACCURACY_Percentage = 61.04000210762024 \n",
      "Epoch  7, CIFAR-10 Batch 3:   LOSS = 0.6281152963638306  \t ACCURACY_Percentage = 61.04000210762024 \n",
      "Epoch  7, CIFAR-10 Batch 4:   LOSS = 0.7235019207000732  \t ACCURACY_Percentage = 60.9000027179718 \n",
      "Epoch  7, CIFAR-10 Batch 5:   LOSS = 0.6567438840866089  \t ACCURACY_Percentage = 60.79999804496765 \n",
      "Epoch  8, CIFAR-10 Batch 1:   LOSS = 0.9875507354736328  \t ACCURACY_Percentage = 61.05999946594238 \n",
      "Epoch  8, CIFAR-10 Batch 2:   LOSS = 0.6523925065994263  \t ACCURACY_Percentage = 62.0199978351593 \n",
      "Epoch  8, CIFAR-10 Batch 3:   LOSS = 0.5962607264518738  \t ACCURACY_Percentage = 61.86000108718872 \n",
      "Epoch  8, CIFAR-10 Batch 4:   LOSS = 0.6968744397163391  \t ACCURACY_Percentage = 61.18000149726868 \n",
      "Epoch  8, CIFAR-10 Batch 5:   LOSS = 0.5889785885810852  \t ACCURACY_Percentage = 61.46000027656555 \n",
      "Epoch  9, CIFAR-10 Batch 1:   LOSS = 1.0075429677963257  \t ACCURACY_Percentage = 61.91999912261963 \n",
      "Epoch  9, CIFAR-10 Batch 2:   LOSS = 0.5977901816368103  \t ACCURACY_Percentage = 62.3199999332428 \n",
      "Epoch  9, CIFAR-10 Batch 3:   LOSS = 0.4971596598625183  \t ACCURACY_Percentage = 62.26000189781189 \n",
      "Epoch  9, CIFAR-10 Batch 4:   LOSS = 0.5624294281005859  \t ACCURACY_Percentage = 61.01999878883362 \n",
      "Epoch  9, CIFAR-10 Batch 5:   LOSS = 0.5286562442779541  \t ACCURACY_Percentage = 61.14000082015991 \n",
      "Epoch 10, CIFAR-10 Batch 1:   LOSS = 0.9396324157714844  \t ACCURACY_Percentage = 61.91999912261963 \n",
      "Epoch 10, CIFAR-10 Batch 2:   LOSS = 0.5053319334983826  \t ACCURACY_Percentage = 62.139999866485596 \n",
      "Epoch 10, CIFAR-10 Batch 3:   LOSS = 0.45934629440307617  \t ACCURACY_Percentage = 62.66000270843506 \n",
      "Epoch 10, CIFAR-10 Batch 4:   LOSS = 0.5684323310852051  \t ACCURACY_Percentage = 61.400002241134644 \n",
      "Epoch 10, CIFAR-10 Batch 5:   LOSS = 0.5343257188796997  \t ACCURACY_Percentage = 61.54000163078308 \n",
      "Epoch 11, CIFAR-10 Batch 1:   LOSS = 0.7880982756614685  \t ACCURACY_Percentage = 62.08000183105469 \n",
      "Epoch 11, CIFAR-10 Batch 2:   LOSS = 0.5134713649749756  \t ACCURACY_Percentage = 62.9800021648407 \n",
      "Epoch 11, CIFAR-10 Batch 3:   LOSS = 0.41966715455055237  \t ACCURACY_Percentage = 62.36000061035156 \n",
      "Epoch 11, CIFAR-10 Batch 4:   LOSS = 0.40361160039901733  \t ACCURACY_Percentage = 62.36000061035156 \n",
      "Epoch 11, CIFAR-10 Batch 5:   LOSS = 0.49723654985427856  \t ACCURACY_Percentage = 61.54000163078308 \n",
      "Epoch 12, CIFAR-10 Batch 1:   LOSS = 0.7468945384025574  \t ACCURACY_Percentage = 61.6599977016449 \n",
      "Epoch 12, CIFAR-10 Batch 2:   LOSS = 0.4557062089443207  \t ACCURACY_Percentage = 62.76000142097473 \n",
      "Epoch 12, CIFAR-10 Batch 3:   LOSS = 0.39444026350975037  \t ACCURACY_Percentage = 62.800002098083496 \n",
      "Epoch 12, CIFAR-10 Batch 4:   LOSS = 0.43040552735328674  \t ACCURACY_Percentage = 62.5 \n",
      "Epoch 12, CIFAR-10 Batch 5:   LOSS = 0.45845356583595276  \t ACCURACY_Percentage = 61.479997634887695 \n",
      "Epoch 13, CIFAR-10 Batch 1:   LOSS = 0.749382495880127  \t ACCURACY_Percentage = 62.220001220703125 \n",
      "Epoch 13, CIFAR-10 Batch 2:   LOSS = 0.4032159745693207  \t ACCURACY_Percentage = 63.200002908706665 \n",
      "Epoch 13, CIFAR-10 Batch 3:   LOSS = 0.3345225155353546  \t ACCURACY_Percentage = 63.23999762535095 \n",
      "Epoch 13, CIFAR-10 Batch 4:   LOSS = 0.3991508185863495  \t ACCURACY_Percentage = 62.12000250816345 \n",
      "Epoch 13, CIFAR-10 Batch 5:   LOSS = 0.38765060901641846  \t ACCURACY_Percentage = 62.779998779296875 \n",
      "Epoch 14, CIFAR-10 Batch 1:   LOSS = 0.6345635652542114  \t ACCURACY_Percentage = 62.15999722480774 \n",
      "Epoch 14, CIFAR-10 Batch 2:   LOSS = 0.3567160665988922  \t ACCURACY_Percentage = 63.48000168800354 \n",
      "Epoch 14, CIFAR-10 Batch 3:   LOSS = 0.3371918797492981  \t ACCURACY_Percentage = 62.36000061035156 \n",
      "Epoch 14, CIFAR-10 Batch 4:   LOSS = 0.3562425374984741  \t ACCURACY_Percentage = 62.699997425079346 \n",
      "Epoch 14, CIFAR-10 Batch 5:   LOSS = 0.32987600564956665  \t ACCURACY_Percentage = 62.58000135421753 \n",
      "Epoch 15, CIFAR-10 Batch 1:   LOSS = 0.5382285118103027  \t ACCURACY_Percentage = 62.55999803543091 \n",
      "Epoch 15, CIFAR-10 Batch 2:   LOSS = 0.28854900598526  \t ACCURACY_Percentage = 63.66000175476074 \n",
      "Epoch 15, CIFAR-10 Batch 3:   LOSS = 0.31231874227523804  \t ACCURACY_Percentage = 62.55999803543091 \n",
      "Epoch 15, CIFAR-10 Batch 4:   LOSS = 0.31070756912231445  \t ACCURACY_Percentage = 62.519997358322144 \n",
      "Epoch 15, CIFAR-10 Batch 5:   LOSS = 0.3178471028804779  \t ACCURACY_Percentage = 62.379997968673706 \n",
      "Epoch 16, CIFAR-10 Batch 1:   LOSS = 0.4454551637172699  \t ACCURACY_Percentage = 63.26000094413757 \n",
      "Epoch 16, CIFAR-10 Batch 2:   LOSS = 0.2860254645347595  \t ACCURACY_Percentage = 62.99999952316284 \n",
      "Epoch 16, CIFAR-10 Batch 3:   LOSS = 0.22106459736824036  \t ACCURACY_Percentage = 61.76000237464905 \n",
      "Epoch 16, CIFAR-10 Batch 4:   LOSS = 0.331306517124176  \t ACCURACY_Percentage = 62.459999322891235 \n",
      "Epoch 16, CIFAR-10 Batch 5:   LOSS = 0.3182772696018219  \t ACCURACY_Percentage = 63.48000168800354 \n",
      "Epoch 17, CIFAR-10 Batch 1:   LOSS = 0.3966194987297058  \t ACCURACY_Percentage = 62.5 \n",
      "Epoch 17, CIFAR-10 Batch 2:   LOSS = 0.21526789665222168  \t ACCURACY_Percentage = 63.999998569488525 \n"
     ]
    },
    {
     "name": "stdout",
     "output_type": "stream",
     "text": [
      "Epoch 17, CIFAR-10 Batch 3:   LOSS = 0.3055456280708313  \t ACCURACY_Percentage = 61.820000410079956 \n",
      "Epoch 17, CIFAR-10 Batch 4:   LOSS = 0.29325515031814575  \t ACCURACY_Percentage = 62.139999866485596 \n",
      "Epoch 17, CIFAR-10 Batch 5:   LOSS = 0.30710649490356445  \t ACCURACY_Percentage = 62.480002641677856 \n",
      "Epoch 18, CIFAR-10 Batch 1:   LOSS = 0.3224242627620697  \t ACCURACY_Percentage = 62.800002098083496 \n",
      "Epoch 18, CIFAR-10 Batch 2:   LOSS = 0.2627047896385193  \t ACCURACY_Percentage = 62.300002574920654 \n",
      "Epoch 18, CIFAR-10 Batch 3:   LOSS = 0.23400020599365234  \t ACCURACY_Percentage = 62.18000054359436 \n",
      "Epoch 18, CIFAR-10 Batch 4:   LOSS = 0.3216451406478882  \t ACCURACY_Percentage = 61.69999837875366 \n",
      "Epoch 18, CIFAR-10 Batch 5:   LOSS = 0.2387801855802536  \t ACCURACY_Percentage = 62.41999864578247 \n",
      "Epoch 19, CIFAR-10 Batch 1:   LOSS = 0.31208303570747375  \t ACCURACY_Percentage = 63.120001554489136 \n",
      "Epoch 19, CIFAR-10 Batch 2:   LOSS = 0.18354900181293488  \t ACCURACY_Percentage = 62.139999866485596 \n",
      "Epoch 19, CIFAR-10 Batch 3:   LOSS = 0.17647726833820343  \t ACCURACY_Percentage = 62.26000189781189 \n",
      "Epoch 19, CIFAR-10 Batch 4:   LOSS = 0.2456030398607254  \t ACCURACY_Percentage = 62.63999938964844 \n",
      "Epoch 19, CIFAR-10 Batch 5:   LOSS = 0.2610698640346527  \t ACCURACY_Percentage = 61.97999715805054 \n",
      "Epoch 20, CIFAR-10 Batch 1:   LOSS = 0.26781871914863586  \t ACCURACY_Percentage = 62.99999952316284 \n",
      "Epoch 20, CIFAR-10 Batch 2:   LOSS = 0.175868421792984  \t ACCURACY_Percentage = 62.5 \n",
      "Epoch 20, CIFAR-10 Batch 3:   LOSS = 0.20413246750831604  \t ACCURACY_Percentage = 62.73999810218811 \n",
      "Epoch 20, CIFAR-10 Batch 4:   LOSS = 0.2547532916069031  \t ACCURACY_Percentage = 62.0199978351593 \n",
      "Epoch 20, CIFAR-10 Batch 5:   LOSS = 0.24288058280944824  \t ACCURACY_Percentage = 61.580002307891846 \n",
      "Epoch 21, CIFAR-10 Batch 1:   LOSS = 0.2934170365333557  \t ACCURACY_Percentage = 61.86000108718872 \n",
      "Epoch 21, CIFAR-10 Batch 2:   LOSS = 0.15607556700706482  \t ACCURACY_Percentage = 62.95999884605408 \n",
      "Epoch 21, CIFAR-10 Batch 3:   LOSS = 0.15691660344600677  \t ACCURACY_Percentage = 62.3199999332428 \n",
      "Epoch 21, CIFAR-10 Batch 4:   LOSS = 0.2140411138534546  \t ACCURACY_Percentage = 61.640000343322754 \n",
      "Epoch 21, CIFAR-10 Batch 5:   LOSS = 0.1918860822916031  \t ACCURACY_Percentage = 62.139999866485596 \n",
      "Epoch 22, CIFAR-10 Batch 1:   LOSS = 0.2597898542881012  \t ACCURACY_Percentage = 61.799997091293335 \n",
      "Epoch 22, CIFAR-10 Batch 2:   LOSS = 0.17729273438453674  \t ACCURACY_Percentage = 62.379997968673706 \n",
      "Epoch 22, CIFAR-10 Batch 3:   LOSS = 0.13500575721263885  \t ACCURACY_Percentage = 62.41999864578247 \n",
      "Epoch 22, CIFAR-10 Batch 4:   LOSS = 0.14662007987499237  \t ACCURACY_Percentage = 61.11999750137329 \n",
      "Epoch 22, CIFAR-10 Batch 5:   LOSS = 0.21300449967384338  \t ACCURACY_Percentage = 60.46000123023987 \n",
      "Epoch 23, CIFAR-10 Batch 1:   LOSS = 0.2153346985578537  \t ACCURACY_Percentage = 61.400002241134644 \n",
      "Epoch 23, CIFAR-10 Batch 2:   LOSS = 0.18595436215400696  \t ACCURACY_Percentage = 62.0199978351593 \n",
      "Epoch 23, CIFAR-10 Batch 3:   LOSS = 0.15798795223236084  \t ACCURACY_Percentage = 62.059998512268066 \n",
      "Epoch 23, CIFAR-10 Batch 4:   LOSS = 0.22260741889476776  \t ACCURACY_Percentage = 61.18000149726868 \n",
      "Epoch 23, CIFAR-10 Batch 5:   LOSS = 0.1911582052707672  \t ACCURACY_Percentage = 61.159998178482056 \n",
      "Epoch 24, CIFAR-10 Batch 1:   LOSS = 0.17247453331947327  \t ACCURACY_Percentage = 61.36000156402588 \n",
      "Epoch 24, CIFAR-10 Batch 2:   LOSS = 0.1778893768787384  \t ACCURACY_Percentage = 61.28000020980835 \n",
      "Epoch 24, CIFAR-10 Batch 3:   LOSS = 0.14412657916545868  \t ACCURACY_Percentage = 61.879998445510864 \n",
      "Epoch 24, CIFAR-10 Batch 4:   LOSS = 0.15819522738456726  \t ACCURACY_Percentage = 61.6599977016449 \n",
      "Epoch 24, CIFAR-10 Batch 5:   LOSS = 0.17131665349006653  \t ACCURACY_Percentage = 60.96000075340271 \n",
      "Epoch 25, CIFAR-10 Batch 1:   LOSS = 0.2182425558567047  \t ACCURACY_Percentage = 60.519999265670776 \n",
      "Epoch 25, CIFAR-10 Batch 2:   LOSS = 0.13733308017253876  \t ACCURACY_Percentage = 61.69999837875366 \n",
      "Epoch 25, CIFAR-10 Batch 3:   LOSS = 0.14854061603546143  \t ACCURACY_Percentage = 61.879998445510864 \n",
      "Epoch 25, CIFAR-10 Batch 4:   LOSS = 0.14913883805274963  \t ACCURACY_Percentage = 62.0199978351593 \n",
      "Epoch 25, CIFAR-10 Batch 5:   LOSS = 0.161890909075737  \t ACCURACY_Percentage = 60.339999198913574 \n",
      "Epoch 26, CIFAR-10 Batch 1:   LOSS = 0.1715366393327713  \t ACCURACY_Percentage = 61.22000217437744 \n",
      "Epoch 26, CIFAR-10 Batch 2:   LOSS = 0.10435943305492401  \t ACCURACY_Percentage = 61.91999912261963 \n",
      "Epoch 26, CIFAR-10 Batch 3:   LOSS = 0.1337748020887375  \t ACCURACY_Percentage = 61.239999532699585 \n",
      "Epoch 26, CIFAR-10 Batch 4:   LOSS = 0.20330138504505157  \t ACCURACY_Percentage = 60.75999736785889 \n",
      "Epoch 26, CIFAR-10 Batch 5:   LOSS = 0.12305035442113876  \t ACCURACY_Percentage = 61.8399977684021 \n",
      "Epoch 27, CIFAR-10 Batch 1:   LOSS = 0.16190391778945923  \t ACCURACY_Percentage = 61.8399977684021 \n",
      "Epoch 27, CIFAR-10 Batch 2:   LOSS = 0.10584638267755508  \t ACCURACY_Percentage = 62.59999871253967 \n",
      "Epoch 27, CIFAR-10 Batch 3:   LOSS = 0.09439487755298615  \t ACCURACY_Percentage = 61.820000410079956 \n",
      "Epoch 27, CIFAR-10 Batch 4:   LOSS = 0.13968564569950104  \t ACCURACY_Percentage = 61.33999824523926 \n",
      "Epoch 27, CIFAR-10 Batch 5:   LOSS = 0.09652537107467651  \t ACCURACY_Percentage = 61.6599977016449 \n",
      "Epoch 28, CIFAR-10 Batch 1:   LOSS = 0.14693674445152283  \t ACCURACY_Percentage = 60.55999994277954 \n",
      "Epoch 28, CIFAR-10 Batch 2:   LOSS = 0.08353064209222794  \t ACCURACY_Percentage = 62.58000135421753 \n",
      "Epoch 28, CIFAR-10 Batch 3:   LOSS = 0.07520965486764908  \t ACCURACY_Percentage = 61.68000102043152 \n",
      "Epoch 28, CIFAR-10 Batch 4:   LOSS = 0.14940935373306274  \t ACCURACY_Percentage = 61.000001430511475 \n",
      "Epoch 28, CIFAR-10 Batch 5:   LOSS = 0.08106531947851181  \t ACCURACY_Percentage = 62.00000047683716 \n",
      "Epoch 29, CIFAR-10 Batch 1:   LOSS = 0.1451544463634491  \t ACCURACY_Percentage = 60.15999913215637 \n",
      "Epoch 29, CIFAR-10 Batch 2:   LOSS = 0.09481541812419891  \t ACCURACY_Percentage = 62.90000081062317 \n",
      "Epoch 29, CIFAR-10 Batch 3:   LOSS = 0.06694607436656952  \t ACCURACY_Percentage = 62.63999938964844 \n",
      "Epoch 29, CIFAR-10 Batch 4:   LOSS = 0.147035151720047  \t ACCURACY_Percentage = 60.7200026512146 \n",
      "Epoch 29, CIFAR-10 Batch 5:   LOSS = 0.07398786395788193  \t ACCURACY_Percentage = 61.320000886917114 \n",
      "Epoch 30, CIFAR-10 Batch 1:   LOSS = 0.19213449954986572  \t ACCURACY_Percentage = 61.29999756813049 \n",
      "Epoch 30, CIFAR-10 Batch 2:   LOSS = 0.05939502641558647  \t ACCURACY_Percentage = 61.239999532699585 \n",
      "Epoch 30, CIFAR-10 Batch 3:   LOSS = 0.06566862761974335  \t ACCURACY_Percentage = 61.18000149726868 \n",
      "Epoch 30, CIFAR-10 Batch 4:   LOSS = 0.1098472848534584  \t ACCURACY_Percentage = 60.579997301101685 \n",
      "Epoch 30, CIFAR-10 Batch 5:   LOSS = 0.09366325289011002  \t ACCURACY_Percentage = 62.41999864578247 \n",
      "Epoch 31, CIFAR-10 Batch 1:   LOSS = 0.12613245844841003  \t ACCURACY_Percentage = 61.11999750137329 \n",
      "Epoch 31, CIFAR-10 Batch 2:   LOSS = 0.06011619418859482  \t ACCURACY_Percentage = 62.3199999332428 \n",
      "Epoch 31, CIFAR-10 Batch 3:   LOSS = 0.08242969214916229  \t ACCURACY_Percentage = 62.27999925613403 \n",
      "Epoch 31, CIFAR-10 Batch 4:   LOSS = 0.12122471630573273  \t ACCURACY_Percentage = 60.600000619888306 \n",
      "Epoch 31, CIFAR-10 Batch 5:   LOSS = 0.07185931503772736  \t ACCURACY_Percentage = 62.3199999332428 \n",
      "Epoch 32, CIFAR-10 Batch 1:   LOSS = 0.13819468021392822  \t ACCURACY_Percentage = 61.479997634887695 \n",
      "Epoch 32, CIFAR-10 Batch 2:   LOSS = 0.04770451784133911  \t ACCURACY_Percentage = 61.68000102043152 \n",
      "Epoch 32, CIFAR-10 Batch 3:   LOSS = 0.05188051611185074  \t ACCURACY_Percentage = 61.479997634887695 \n",
      "Epoch 32, CIFAR-10 Batch 4:   LOSS = 0.10443861782550812  \t ACCURACY_Percentage = 60.79999804496765 \n",
      "Epoch 32, CIFAR-10 Batch 5:   LOSS = 0.06838270276784897  \t ACCURACY_Percentage = 61.6599977016449 \n",
      "Epoch 33, CIFAR-10 Batch 1:   LOSS = 0.10216014087200165  \t ACCURACY_Percentage = 60.21999716758728 \n",
      "Epoch 33, CIFAR-10 Batch 2:   LOSS = 0.05691263824701309  \t ACCURACY_Percentage = 62.059998512268066 \n",
      "Epoch 33, CIFAR-10 Batch 3:   LOSS = 0.05795934796333313  \t ACCURACY_Percentage = 62.44000196456909 \n",
      "Epoch 33, CIFAR-10 Batch 4:   LOSS = 0.09630779922008514  \t ACCURACY_Percentage = 60.019999742507935 \n"
     ]
    },
    {
     "name": "stdout",
     "output_type": "stream",
     "text": [
      "Epoch 33, CIFAR-10 Batch 5:   LOSS = 0.0705384835600853  \t ACCURACY_Percentage = 62.139999866485596 \n",
      "Epoch 34, CIFAR-10 Batch 1:   LOSS = 0.10923905670642853  \t ACCURACY_Percentage = 59.83999967575073 \n",
      "Epoch 34, CIFAR-10 Batch 2:   LOSS = 0.05670657008886337  \t ACCURACY_Percentage = 61.68000102043152 \n",
      "Epoch 34, CIFAR-10 Batch 3:   LOSS = 0.03929845616221428  \t ACCURACY_Percentage = 61.260002851486206 \n",
      "Epoch 34, CIFAR-10 Batch 4:   LOSS = 0.048920128494501114  \t ACCURACY_Percentage = 60.920000076293945 \n",
      "Epoch 34, CIFAR-10 Batch 5:   LOSS = 0.07133743166923523  \t ACCURACY_Percentage = 61.8399977684021 \n",
      "Epoch 35, CIFAR-10 Batch 1:   LOSS = 0.08882471919059753  \t ACCURACY_Percentage = 61.559998989105225 \n",
      "Epoch 35, CIFAR-10 Batch 2:   LOSS = 0.05073072761297226  \t ACCURACY_Percentage = 61.559998989105225 \n",
      "Epoch 35, CIFAR-10 Batch 3:   LOSS = 0.04316943883895874  \t ACCURACY_Percentage = 61.10000014305115 \n",
      "Epoch 35, CIFAR-10 Batch 4:   LOSS = 0.08698590099811554  \t ACCURACY_Percentage = 61.10000014305115 \n",
      "Epoch 35, CIFAR-10 Batch 5:   LOSS = 0.06105092912912369  \t ACCURACY_Percentage = 60.15999913215637 \n",
      "Epoch 36, CIFAR-10 Batch 1:   LOSS = 0.07287938892841339  \t ACCURACY_Percentage = 61.11999750137329 \n",
      "Epoch 36, CIFAR-10 Batch 2:   LOSS = 0.02260545827448368  \t ACCURACY_Percentage = 61.320000886917114 \n",
      "Epoch 36, CIFAR-10 Batch 3:   LOSS = 0.04188152402639389  \t ACCURACY_Percentage = 61.900001764297485 \n",
      "Epoch 36, CIFAR-10 Batch 4:   LOSS = 0.0629458948969841  \t ACCURACY_Percentage = 60.0600004196167 \n",
      "Epoch 36, CIFAR-10 Batch 5:   LOSS = 0.05351191759109497  \t ACCURACY_Percentage = 61.54000163078308 \n",
      "Epoch 37, CIFAR-10 Batch 1:   LOSS = 0.06060110777616501  \t ACCURACY_Percentage = 60.280001163482666 \n",
      "Epoch 37, CIFAR-10 Batch 2:   LOSS = 0.0667179599404335  \t ACCURACY_Percentage = 61.94000244140625 \n",
      "Epoch 37, CIFAR-10 Batch 3:   LOSS = 0.036194752901792526  \t ACCURACY_Percentage = 61.44000291824341 \n",
      "Epoch 37, CIFAR-10 Batch 4:   LOSS = 0.08406940847635269  \t ACCURACY_Percentage = 59.43999886512756 \n",
      "Epoch 37, CIFAR-10 Batch 5:   LOSS = 0.03383462876081467  \t ACCURACY_Percentage = 62.12000250816345 \n",
      "Epoch 38, CIFAR-10 Batch 1:   LOSS = 0.05982118099927902  \t ACCURACY_Percentage = 60.61999797821045 \n",
      "Epoch 38, CIFAR-10 Batch 2:   LOSS = 0.028102179989218712  \t ACCURACY_Percentage = 61.76000237464905 \n",
      "Epoch 38, CIFAR-10 Batch 3:   LOSS = 0.05214310809969902  \t ACCURACY_Percentage = 62.04000115394592 \n",
      "Epoch 38, CIFAR-10 Batch 4:   LOSS = 0.055125344544649124  \t ACCURACY_Percentage = 60.259997844696045 \n",
      "Epoch 38, CIFAR-10 Batch 5:   LOSS = 0.058817602694034576  \t ACCURACY_Percentage = 61.41999959945679 \n",
      "Epoch 39, CIFAR-10 Batch 1:   LOSS = 0.09632812440395355  \t ACCURACY_Percentage = 60.519999265670776 \n",
      "Epoch 39, CIFAR-10 Batch 2:   LOSS = 0.03671450540423393  \t ACCURACY_Percentage = 62.15999722480774 \n",
      "Epoch 39, CIFAR-10 Batch 3:   LOSS = 0.035075265914201736  \t ACCURACY_Percentage = 62.059998512268066 \n",
      "Epoch 39, CIFAR-10 Batch 4:   LOSS = 0.04451139643788338  \t ACCURACY_Percentage = 60.9000027179718 \n",
      "Epoch 39, CIFAR-10 Batch 5:   LOSS = 0.0647827535867691  \t ACCURACY_Percentage = 61.69999837875366 \n",
      "Epoch 40, CIFAR-10 Batch 1:   LOSS = 0.053370535373687744  \t ACCURACY_Percentage = 59.64000225067139 \n",
      "Epoch 40, CIFAR-10 Batch 2:   LOSS = 0.028131723403930664  \t ACCURACY_Percentage = 62.12000250816345 \n",
      "Epoch 40, CIFAR-10 Batch 3:   LOSS = 0.025000128895044327  \t ACCURACY_Percentage = 60.79999804496765 \n",
      "Epoch 40, CIFAR-10 Batch 4:   LOSS = 0.05409964174032211  \t ACCURACY_Percentage = 60.11999845504761 \n",
      "Epoch 40, CIFAR-10 Batch 5:   LOSS = 0.03531617671251297  \t ACCURACY_Percentage = 61.68000102043152 \n",
      "Epoch 41, CIFAR-10 Batch 1:   LOSS = 0.07926119863986969  \t ACCURACY_Percentage = 60.97999811172485 \n",
      "Epoch 41, CIFAR-10 Batch 2:   LOSS = 0.012968462891876698  \t ACCURACY_Percentage = 61.900001764297485 \n",
      "Epoch 41, CIFAR-10 Batch 3:   LOSS = 0.020408187061548233  \t ACCURACY_Percentage = 61.14000082015991 \n",
      "Epoch 41, CIFAR-10 Batch 4:   LOSS = 0.05559132248163223  \t ACCURACY_Percentage = 59.8800003528595 \n",
      "Epoch 41, CIFAR-10 Batch 5:   LOSS = 0.019745323807001114  \t ACCURACY_Percentage = 62.12000250816345 \n",
      "Epoch 42, CIFAR-10 Batch 1:   LOSS = 0.06100441887974739  \t ACCURACY_Percentage = 59.539997577667236 \n",
      "Epoch 42, CIFAR-10 Batch 2:   LOSS = 0.018541907891631126  \t ACCURACY_Percentage = 61.86000108718872 \n",
      "Epoch 42, CIFAR-10 Batch 3:   LOSS = 0.019728444516658783  \t ACCURACY_Percentage = 61.04000210762024 \n",
      "Epoch 42, CIFAR-10 Batch 4:   LOSS = 0.06301480531692505  \t ACCURACY_Percentage = 60.280001163482666 \n",
      "Epoch 42, CIFAR-10 Batch 5:   LOSS = 0.04110244661569595  \t ACCURACY_Percentage = 61.44000291824341 \n",
      "Epoch 43, CIFAR-10 Batch 1:   LOSS = 0.0651792511343956  \t ACCURACY_Percentage = 60.7200026512146 \n",
      "Epoch 43, CIFAR-10 Batch 2:   LOSS = 0.01861022412776947  \t ACCURACY_Percentage = 62.0199978351593 \n",
      "Epoch 43, CIFAR-10 Batch 3:   LOSS = 0.012225326150655746  \t ACCURACY_Percentage = 61.260002851486206 \n",
      "Epoch 43, CIFAR-10 Batch 4:   LOSS = 0.0611715242266655  \t ACCURACY_Percentage = 59.52000021934509 \n",
      "Epoch 43, CIFAR-10 Batch 5:   LOSS = 0.058259665966033936  \t ACCURACY_Percentage = 61.14000082015991 \n",
      "Epoch 44, CIFAR-10 Batch 1:   LOSS = 0.06134692579507828  \t ACCURACY_Percentage = 60.280001163482666 \n",
      "Epoch 44, CIFAR-10 Batch 2:   LOSS = 0.01948828622698784  \t ACCURACY_Percentage = 62.18000054359436 \n",
      "Epoch 44, CIFAR-10 Batch 3:   LOSS = 0.016520382836461067  \t ACCURACY_Percentage = 61.46000027656555 \n",
      "Epoch 44, CIFAR-10 Batch 4:   LOSS = 0.03589031845331192  \t ACCURACY_Percentage = 59.939998388290405 \n",
      "Epoch 44, CIFAR-10 Batch 5:   LOSS = 0.05445433408021927  \t ACCURACY_Percentage = 61.77999973297119 \n",
      "Epoch 45, CIFAR-10 Batch 1:   LOSS = 0.05070113018155098  \t ACCURACY_Percentage = 60.280001163482666 \n",
      "Epoch 45, CIFAR-10 Batch 2:   LOSS = 0.01584431901574135  \t ACCURACY_Percentage = 62.139999866485596 \n",
      "Epoch 45, CIFAR-10 Batch 3:   LOSS = 0.02423934079706669  \t ACCURACY_Percentage = 62.059998512268066 \n",
      "Epoch 45, CIFAR-10 Batch 4:   LOSS = 0.047136880457401276  \t ACCURACY_Percentage = 60.019999742507935 \n",
      "Epoch 45, CIFAR-10 Batch 5:   LOSS = 0.030308660119771957  \t ACCURACY_Percentage = 62.199997901916504 \n",
      "Epoch 46, CIFAR-10 Batch 1:   LOSS = 0.055512212216854095  \t ACCURACY_Percentage = 60.019999742507935 \n",
      "Epoch 46, CIFAR-10 Batch 2:   LOSS = 0.026503538712859154  \t ACCURACY_Percentage = 61.33999824523926 \n",
      "Epoch 46, CIFAR-10 Batch 3:   LOSS = 0.015453395433723927  \t ACCURACY_Percentage = 61.14000082015991 \n",
      "Epoch 46, CIFAR-10 Batch 4:   LOSS = 0.040588345378637314  \t ACCURACY_Percentage = 59.60000157356262 \n",
      "Epoch 46, CIFAR-10 Batch 5:   LOSS = 0.028927961364388466  \t ACCURACY_Percentage = 61.37999892234802 \n",
      "Epoch 47, CIFAR-10 Batch 1:   LOSS = 0.049281537532806396  \t ACCURACY_Percentage = 59.539997577667236 \n",
      "Epoch 47, CIFAR-10 Batch 2:   LOSS = 0.04149867221713066  \t ACCURACY_Percentage = 60.93999743461609 \n",
      "Epoch 47, CIFAR-10 Batch 3:   LOSS = 0.034548770636320114  \t ACCURACY_Percentage = 60.75999736785889 \n",
      "Epoch 47, CIFAR-10 Batch 4:   LOSS = 0.023213010281324387  \t ACCURACY_Percentage = 60.360002517700195 \n",
      "Epoch 47, CIFAR-10 Batch 5:   LOSS = 0.030208241194486618  \t ACCURACY_Percentage = 61.54000163078308 \n",
      "Epoch 48, CIFAR-10 Batch 1:   LOSS = 0.054003048688173294  \t ACCURACY_Percentage = 60.87999939918518 \n",
      "Epoch 48, CIFAR-10 Batch 2:   LOSS = 0.04272497817873955  \t ACCURACY_Percentage = 61.6599977016449 \n",
      "Epoch 48, CIFAR-10 Batch 3:   LOSS = 0.013244708999991417  \t ACCURACY_Percentage = 61.77999973297119 \n",
      "Epoch 48, CIFAR-10 Batch 4:   LOSS = 0.023580987006425858  \t ACCURACY_Percentage = 60.600000619888306 \n",
      "Epoch 48, CIFAR-10 Batch 5:   LOSS = 0.026077652350068092  \t ACCURACY_Percentage = 61.59999966621399 \n",
      "Epoch 49, CIFAR-10 Batch 1:   LOSS = 0.03504710644483566  \t ACCURACY_Percentage = 60.5400025844574 \n",
      "Epoch 49, CIFAR-10 Batch 2:   LOSS = 0.0252136941999197  \t ACCURACY_Percentage = 61.8399977684021 \n",
      "Epoch 49, CIFAR-10 Batch 3:   LOSS = 0.013387489132583141  \t ACCURACY_Percentage = 61.320000886917114 \n",
      "Epoch 49, CIFAR-10 Batch 4:   LOSS = 0.03841320425271988  \t ACCURACY_Percentage = 60.11999845504761 \n",
      "Epoch 49, CIFAR-10 Batch 5:   LOSS = 0.030335575342178345  \t ACCURACY_Percentage = 61.59999966621399 \n"
     ]
    },
    {
     "name": "stdout",
     "output_type": "stream",
     "text": [
      "Epoch 50, CIFAR-10 Batch 1:   LOSS = 0.05209661275148392  \t ACCURACY_Percentage = 61.000001430511475 \n",
      "Epoch 50, CIFAR-10 Batch 2:   LOSS = 0.037134211510419846  \t ACCURACY_Percentage = 61.61999702453613 \n",
      "Epoch 50, CIFAR-10 Batch 3:   LOSS = 0.014224986545741558  \t ACCURACY_Percentage = 61.580002307891846 \n",
      "Epoch 50, CIFAR-10 Batch 4:   LOSS = 0.027218658477067947  \t ACCURACY_Percentage = 60.87999939918518 \n",
      "Epoch 50, CIFAR-10 Batch 5:   LOSS = 0.0326227992773056  \t ACCURACY_Percentage = 62.459999322891235 \n"
     ]
    }
   ],
   "source": [
    "\"\"\"\n",
    "DON'T MODIFY ANYTHING IN THIS CELL\n",
    "\"\"\"\n",
    "save_model_path = './image_classification'\n",
    "\n",
    "print('Training...')\n",
    "with tf.Session() as sess:\n",
    "    # Initializing the variables\n",
    "    sess.run(tf.global_variables_initializer())\n",
    "    \n",
    "    # Training cycle\n",
    "    for epoch in range(epochs):\n",
    "        # Loop over all batches\n",
    "        n_batches = 5\n",
    "        for batch_i in range(1, n_batches + 1):\n",
    "            for batch_features, batch_labels in helper.load_preprocess_training_batch(batch_i, batch_size):\n",
    "                train_neural_network(sess, optimizer, keep_probability, batch_features, batch_labels)\n",
    "            print('Epoch {:>2}, CIFAR-10 Batch {}:  '.format(epoch + 1, batch_i), end='')\n",
    "            print_stats(sess, batch_features, batch_labels, cost, accuracy)\n",
    "            \n",
    "    # Save Model\n",
    "    saver = tf.train.Saver()\n",
    "    save_path = saver.save(sess, save_model_path)"
   ]
  },
  {
   "cell_type": "markdown",
   "metadata": {},
   "source": [
    "# Checkpoint\n",
    "The model has been saved to disk.\n",
    "## Test Model\n",
    "Test your model against the test dataset.  This will be your final accuracy. You should have an accuracy greater than 50%. If you don't, keep tweaking the model architecture and parameters."
   ]
  },
  {
   "cell_type": "code",
   "execution_count": 22,
   "metadata": {},
   "outputs": [
    {
     "name": "stdout",
     "output_type": "stream",
     "text": [
      "INFO:tensorflow:Restoring parameters from ./image_classification\n",
      "Testing Accuracy: 0.6265923566878981\n",
      "\n"
     ]
    },
    {
     "data": {
      "image/png": "[encoded data removed]",
      "text/plain": [
       "<matplotlib.figure.Figure at 0x7f3362db7f98>"
      ]
     },
     "metadata": {
      "image/png": {
       "height": 319,
       "width": 349
      }
     },
     "output_type": "display_data"
    }
   ],
   "source": [
    "\"\"\"\n",
    "DON'T MODIFY ANYTHING IN THIS CELL\n",
    "\"\"\"\n",
    "%matplotlib inline\n",
    "%config InlineBackend.figure_format = 'retina'\n",
    "\n",
    "import tensorflow as tf\n",
    "import pickle\n",
    "import helper\n",
    "import random\n",
    "\n",
    "# Set batch size if not already set\n",
    "try:\n",
    "    if batch_size:\n",
    "        pass\n",
    "except NameError:\n",
    "    batch_size = 64\n",
    "\n",
    "save_model_path = './image_classification'\n",
    "n_samples = 4\n",
    "top_n_predictions = 3\n",
    "\n",
    "def test_model():\n",
    "    \"\"\"\n",
    "    Test the saved model against the test dataset\n",
    "    \"\"\"\n",
    "\n",
    "    test_features, test_labels = pickle.load(open('preprocess_test.p', mode='rb'))\n",
    "    loaded_graph = tf.Graph()\n",
    "\n",
    "    with tf.Session(graph=loaded_graph) as sess:\n",
    "        # Load model\n",
    "        loader = tf.train.import_meta_graph(save_model_path + '.meta')\n",
    "        loader.restore(sess, save_model_path)\n",
    "\n",
    "        # Get Tensors from loaded model\n",
    "        loaded_x = loaded_graph.get_tensor_by_name('x:0')\n",
    "        loaded_y = loaded_graph.get_tensor_by_name('y:0')\n",
    "        loaded_keep_prob = loaded_graph.get_tensor_by_name('keep_prob:0')\n",
    "        loaded_logits = loaded_graph.get_tensor_by_name('logits:0')\n",
    "        loaded_acc = loaded_graph.get_tensor_by_name('accuracy:0')\n",
    "        \n",
    "        # Get accuracy in batches for memory limitations\n",
    "        test_batch_acc_total = 0\n",
    "        test_batch_count = 0\n",
    "        \n",
    "        for test_feature_batch, test_label_batch in helper.batch_features_labels(test_features, test_labels, batch_size):\n",
    "            test_batch_acc_total += sess.run(\n",
    "                loaded_acc,\n",
    "                feed_dict={loaded_x: test_feature_batch, loaded_y: test_label_batch, loaded_keep_prob: 1.0})\n",
    "            test_batch_count += 1\n",
    "\n",
    "        print('Testing Accuracy: {}\\n'.format(test_batch_acc_total/test_batch_count))\n",
    "\n",
    "        # Print Random Samples\n",
    "        random_test_features, random_test_labels = tuple(zip(*random.sample(list(zip(test_features, test_labels)), n_samples)))\n",
    "        random_test_predictions = sess.run(\n",
    "            tf.nn.top_k(tf.nn.softmax(loaded_logits), top_n_predictions),\n",
    "            feed_dict={loaded_x: random_test_features, loaded_y: random_test_labels, loaded_keep_prob: 1.0})\n",
    "        helper.display_image_predictions(random_test_features, random_test_labels, random_test_predictions)\n",
    "\n",
    "\n",
    "test_model()"
   ]
  },
  {
   "cell_type": "markdown",
   "metadata": {},
   "source": [
    "## Why 50-80% Accuracy?\n",
    "You might be wondering why you can't get an accuracy any higher. First things first, 50% isn't bad for a simple CNN.  Pure guessing would get you 10% accuracy. However, you might notice people are getting scores [well above 80%](http://rodrigob.github.io/are_we_there_yet/build/classification_datasets_results.html#43494641522d3130).  That's because we haven't taught you all there is to know about neural networks. We still need to cover a few more techniques.\n",
    "## Submitting This Project\n",
    "When submitting this project, make sure to run all the cells before saving the notebook.  Save the notebook file as \"dlnd_image_classification.ipynb\" and save it as a HTML file under \"File\" -> \"Download as\".  Include the \"helper.py\" and \"problem_unittests.py\" files in your submission."
   ]
  }
 ],
 "metadata": {
  "kernelspec": {
   "display_name": "Python 3",
   "language": "python",
   "name": "python3"
  },
  "language_info": {
   "codemirror_mode": {
    "name": "ipython",
    "version": 3
   },
   "file_extension": ".py",
   "mimetype": "text/x-python",
   "name": "python",
   "nbconvert_exporter": "python",
   "pygments_lexer": "ipython3",
   "version": "3.5.4"
  }
 },
 "nbformat": 4,
 "nbformat_minor": 1
}
